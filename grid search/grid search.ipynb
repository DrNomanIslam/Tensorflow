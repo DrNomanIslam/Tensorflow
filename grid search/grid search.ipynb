{
 "cells": [
  {
   "cell_type": "code",
   "execution_count": 1,
   "metadata": {},
   "outputs": [],
   "source": [
    "from tensorflow.keras import Sequential\n",
    "from tensorflow.keras.layers import Dense"
   ]
  },
  {
   "cell_type": "code",
   "execution_count": 44,
   "metadata": {},
   "outputs": [],
   "source": [
    "def get_model():\n",
    "    model = Sequential(\n",
    "    [\n",
    "        Dense(32, activation='relu'),\n",
    "        Dense(16, activation='relu'),\n",
    "        Dense(3, activation='softmax')\n",
    "    ]\n",
    "    )\n",
    "    model.compile(optimizer='rmsprop', loss='sparse_categorical_crossentropy', metrics='accuracy')\n",
    "    return model"
   ]
  },
  {
   "cell_type": "code",
   "execution_count": 13,
   "metadata": {},
   "outputs": [],
   "source": [
    "import numpy as np\n",
    "data = pd.read_csv('iris.csv', header=None)"
   ]
  },
  {
   "cell_type": "code",
   "execution_count": 19,
   "metadata": {},
   "outputs": [],
   "source": [
    "data[4].replace({'Iris-setosa':1, 'Iris-versicolor':2, 'Iris-virginica': 3}, inplace=True)"
   ]
  },
  {
   "cell_type": "code",
   "execution_count": 20,
   "metadata": {},
   "outputs": [],
   "source": [
    "from sklearn.model_selection import train_test_split"
   ]
  },
  {
   "cell_type": "code",
   "execution_count": 25,
   "metadata": {},
   "outputs": [],
   "source": [
    "X_train, X_test, Y_train, Y_test = train_test_split(data.loc[:,'0':'3'], data[4], random_state=1, shuffle=True)"
   ]
  },
  {
   "cell_type": "code",
   "execution_count": 15,
   "metadata": {},
   "outputs": [],
   "source": [
    "from keras.wrappers.scikit_learn import KerasClassifier"
   ]
  },
  {
   "cell_type": "code",
   "execution_count": 45,
   "metadata": {},
   "outputs": [
    {
     "name": "stderr",
     "output_type": "stream",
     "text": [
      "D:\\Anaconda3\\lib\\site-packages\\ipykernel_launcher.py:1: DeprecationWarning: KerasClassifier is deprecated, use Sci-Keras (https://github.com/adriangb/scikeras) instead.\n",
      "  \"\"\"Entry point for launching an IPython kernel.\n"
     ]
    }
   ],
   "source": [
    "model = KerasClassifier(build_fn=get_model)"
   ]
  },
  {
   "cell_type": "code",
   "execution_count": 46,
   "metadata": {},
   "outputs": [],
   "source": [
    "from sklearn.model_selection import GridSearchCV"
   ]
  },
  {
   "cell_type": "code",
   "execution_count": 47,
   "metadata": {},
   "outputs": [],
   "source": [
    "params={'batch_size':[10,20,40,80,150], 'epochs':[10,20,50]}"
   ]
  },
  {
   "cell_type": "code",
   "execution_count": 48,
   "metadata": {},
   "outputs": [],
   "source": [
    "grid = GridSearchCV(estimator=model, param_grid=params, n_jobs=-1, cv=3)"
   ]
  },
  {
   "cell_type": "code",
   "execution_count": 49,
   "metadata": {},
   "outputs": [
    {
     "name": "stdout",
     "output_type": "stream",
     "text": [
      "Epoch 1/50\n",
      "12/12 [==============================] - 1s 2ms/step - loss: 0.8167 - accuracy: 0.6964\n",
      "Epoch 2/50\n",
      "12/12 [==============================] - 0s 2ms/step - loss: 0.6772 - accuracy: 0.6964\n",
      "Epoch 3/50\n",
      "12/12 [==============================] - 0s 2ms/step - loss: 0.6054 - accuracy: 0.7054\n",
      "Epoch 4/50\n",
      "12/12 [==============================] - 0s 2ms/step - loss: 0.5508 - accuracy: 0.7679\n",
      "Epoch 5/50\n",
      "12/12 [==============================] - 0s 2ms/step - loss: 0.5052 - accuracy: 0.7679\n",
      "Epoch 6/50\n",
      "12/12 [==============================] - 0s 2ms/step - loss: 0.4715 - accuracy: 0.8661\n",
      "Epoch 7/50\n",
      "12/12 [==============================] - 0s 2ms/step - loss: 0.4414 - accuracy: 0.8839\n",
      "Epoch 8/50\n",
      "12/12 [==============================] - 0s 2ms/step - loss: 0.4288 - accuracy: 0.8214\n",
      "Epoch 9/50\n",
      "12/12 [==============================] - 0s 2ms/step - loss: 0.4064 - accuracy: 0.8571\n",
      "Epoch 10/50\n",
      "12/12 [==============================] - 0s 2ms/step - loss: 0.3892 - accuracy: 0.8839\n",
      "Epoch 11/50\n",
      "12/12 [==============================] - 0s 2ms/step - loss: 0.3758 - accuracy: 0.9196\n",
      "Epoch 12/50\n",
      "12/12 [==============================] - 0s 2ms/step - loss: 0.3531 - accuracy: 0.9196\n",
      "Epoch 13/50\n",
      "12/12 [==============================] - 0s 2ms/step - loss: 0.3320 - accuracy: 0.9286\n",
      "Epoch 14/50\n",
      "12/12 [==============================] - 0s 2ms/step - loss: 0.3226 - accuracy: 0.9464\n",
      "Epoch 15/50\n",
      "12/12 [==============================] - 0s 2ms/step - loss: 0.3057 - accuracy: 0.8929\n",
      "Epoch 16/50\n",
      "12/12 [==============================] - 0s 2ms/step - loss: 0.2975 - accuracy: 0.9464\n",
      "Epoch 17/50\n",
      "12/12 [==============================] - 0s 2ms/step - loss: 0.2809 - accuracy: 0.9643\n",
      "Epoch 18/50\n",
      "12/12 [==============================] - 0s 2ms/step - loss: 0.2502 - accuracy: 0.9554\n",
      "Epoch 19/50\n",
      "12/12 [==============================] - 0s 2ms/step - loss: 0.2645 - accuracy: 0.9286\n",
      "Epoch 20/50\n",
      "12/12 [==============================] - 0s 2ms/step - loss: 0.2558 - accuracy: 0.9554\n",
      "Epoch 21/50\n",
      "12/12 [==============================] - 0s 2ms/step - loss: 0.2399 - accuracy: 0.9643\n",
      "Epoch 22/50\n",
      "12/12 [==============================] - 0s 2ms/step - loss: 0.2288 - accuracy: 0.9464\n",
      "Epoch 23/50\n",
      "12/12 [==============================] - 0s 3ms/step - loss: 0.2239 - accuracy: 0.9643\n",
      "Epoch 24/50\n",
      "12/12 [==============================] - 0s 2ms/step - loss: 0.2168 - accuracy: 0.9464\n",
      "Epoch 25/50\n",
      "12/12 [==============================] - 0s 2ms/step - loss: 0.2095 - accuracy: 0.9643\n",
      "Epoch 26/50\n",
      "12/12 [==============================] - 0s 2ms/step - loss: 0.1898 - accuracy: 0.9643\n",
      "Epoch 27/50\n",
      "12/12 [==============================] - 0s 2ms/step - loss: 0.2010 - accuracy: 0.9464\n",
      "Epoch 28/50\n",
      "12/12 [==============================] - 0s 2ms/step - loss: 0.1834 - accuracy: 0.9554\n",
      "Epoch 29/50\n",
      "12/12 [==============================] - 0s 2ms/step - loss: 0.1804 - accuracy: 0.9554\n",
      "Epoch 30/50\n",
      "12/12 [==============================] - 0s 2ms/step - loss: 0.1698 - accuracy: 0.9643\n",
      "Epoch 31/50\n",
      "12/12 [==============================] - 0s 2ms/step - loss: 0.1663 - accuracy: 0.9643\n",
      "Epoch 32/50\n",
      "12/12 [==============================] - 0s 2ms/step - loss: 0.1673 - accuracy: 0.9732\n",
      "Epoch 33/50\n",
      "12/12 [==============================] - 0s 2ms/step - loss: 0.1642 - accuracy: 0.9643\n",
      "Epoch 34/50\n",
      "12/12 [==============================] - 0s 2ms/step - loss: 0.1621 - accuracy: 0.9732\n",
      "Epoch 35/50\n",
      "12/12 [==============================] - 0s 2ms/step - loss: 0.1517 - accuracy: 0.9554\n",
      "Epoch 36/50\n",
      "12/12 [==============================] - 0s 2ms/step - loss: 0.1445 - accuracy: 0.9643\n",
      "Epoch 37/50\n",
      "12/12 [==============================] - 0s 2ms/step - loss: 0.1476 - accuracy: 0.9554\n",
      "Epoch 38/50\n",
      "12/12 [==============================] - 0s 2ms/step - loss: 0.1360 - accuracy: 0.9643\n",
      "Epoch 39/50\n",
      "12/12 [==============================] - 0s 2ms/step - loss: 0.1359 - accuracy: 0.9732\n",
      "Epoch 40/50\n",
      "12/12 [==============================] - 0s 2ms/step - loss: 0.1399 - accuracy: 0.9643\n",
      "Epoch 41/50\n",
      "12/12 [==============================] - 0s 2ms/step - loss: 0.1269 - accuracy: 0.9732\n",
      "Epoch 42/50\n",
      "12/12 [==============================] - 0s 2ms/step - loss: 0.1327 - accuracy: 0.9375\n",
      "Epoch 43/50\n",
      "12/12 [==============================] - 0s 2ms/step - loss: 0.1234 - accuracy: 0.9732\n",
      "Epoch 44/50\n",
      "12/12 [==============================] - 0s 2ms/step - loss: 0.1254 - accuracy: 0.9643\n",
      "Epoch 45/50\n",
      "12/12 [==============================] - 0s 2ms/step - loss: 0.1199 - accuracy: 0.9643\n",
      "Epoch 46/50\n",
      "12/12 [==============================] - 0s 2ms/step - loss: 0.1253 - accuracy: 0.9643\n",
      "Epoch 47/50\n",
      "12/12 [==============================] - 0s 3ms/step - loss: 0.1178 - accuracy: 0.9732\n",
      "Epoch 48/50\n",
      "12/12 [==============================] - 0s 2ms/step - loss: 0.1133 - accuracy: 0.9643\n",
      "Epoch 49/50\n",
      "12/12 [==============================] - 0s 2ms/step - loss: 0.1187 - accuracy: 0.9464\n",
      "Epoch 50/50\n",
      "12/12 [==============================] - 0s 2ms/step - loss: 0.1135 - accuracy: 0.9464\n"
     ]
    }
   ],
   "source": [
    "result = grid.fit(X_train,Y_train)"
   ]
  },
  {
   "cell_type": "code",
   "execution_count": 51,
   "metadata": {},
   "outputs": [
    {
     "name": "stdout",
     "output_type": "stream",
     "text": [
      "Best: 0.954955 using {'batch_size': 10, 'epochs': 50}\n"
     ]
    }
   ],
   "source": [
    "print(\"Best: %f using %s\" % (result.best_score_, result.best_params_))"
   ]
  },
  {
   "cell_type": "code",
   "execution_count": 52,
   "metadata": {},
   "outputs": [
    {
     "name": "stdout",
     "output_type": "stream",
     "text": [
      "0.704599 (0.068538) with: {'batch_size': 10, 'epochs': 10}\n",
      "0.927928 (0.050963) with: {'batch_size': 10, 'epochs': 20}\n",
      "0.954955 (0.033709) with: {'batch_size': 10, 'epochs': 50}\n",
      "0.686818 (0.069726) with: {'batch_size': 20, 'epochs': 10}\n",
      "0.775012 (0.147252) with: {'batch_size': 20, 'epochs': 20}\n",
      "0.946183 (0.038391) with: {'batch_size': 20, 'epochs': 50}\n",
      "0.356330 (0.072386) with: {'batch_size': 40, 'epochs': 10}\n",
      "0.767425 (0.105027) with: {'batch_size': 40, 'epochs': 20}\n",
      "0.883120 (0.092107) with: {'batch_size': 40, 'epochs': 50}\n",
      "0.295164 (0.046773) with: {'batch_size': 80, 'epochs': 10}\n",
      "0.449976 (0.281830) with: {'batch_size': 80, 'epochs': 20}\n",
      "0.820057 (0.147180) with: {'batch_size': 80, 'epochs': 50}\n",
      "0.616880 (0.072088) with: {'batch_size': 150, 'epochs': 10}\n",
      "0.622096 (0.246359) with: {'batch_size': 150, 'epochs': 20}\n",
      "0.704836 (0.046773) with: {'batch_size': 150, 'epochs': 50}\n"
     ]
    }
   ],
   "source": [
    "means = result.cv_results_['mean_test_score']\n",
    "stds = result.cv_results_['std_test_score']\n",
    "params = result.cv_results_['params']\n",
    "for mean, stdev, param in zip(means, stds, params):\n",
    "    print(\"%f (%f) with: %r\" % (mean, stdev, param))"
   ]
  },
  {
   "cell_type": "code",
   "execution_count": 55,
   "metadata": {},
   "outputs": [],
   "source": [
    "#Tuning optimizer\n",
    "def get_model(optimizer='adam'):\n",
    "    model = Sequential(\n",
    "    [\n",
    "        Dense(32, activation='relu'),\n",
    "        Dense(16, activation='relu'),\n",
    "        Dense(3, activation='softmax')\n",
    "    ]\n",
    "    )\n",
    "    model.compile(optimizer=optimizer, loss='sparse_categorical_crossentropy', metrics='accuracy')\n",
    "    return model"
   ]
  },
  {
   "cell_type": "code",
   "execution_count": 56,
   "metadata": {},
   "outputs": [
    {
     "name": "stderr",
     "output_type": "stream",
     "text": [
      "D:\\Anaconda3\\lib\\site-packages\\ipykernel_launcher.py:2: DeprecationWarning: KerasClassifier is deprecated, use Sci-Keras (https://github.com/adriangb/scikeras) instead.\n",
      "  \n"
     ]
    },
    {
     "name": "stdout",
     "output_type": "stream",
     "text": [
      "Epoch 1/50\n",
      "4/4 [==============================] - 1s 3ms/step - loss: 1.5574 - accuracy: 0.3214\n",
      "Epoch 2/50\n",
      "4/4 [==============================] - 0s 4ms/step - loss: 1.2570 - accuracy: 0.1518\n",
      "Epoch 3/50\n",
      "4/4 [==============================] - 0s 2ms/step - loss: 1.1391 - accuracy: 0.0893\n",
      "Epoch 4/50\n",
      "4/4 [==============================] - 0s 4ms/step - loss: 1.0757 - accuracy: 0.3304\n",
      "Epoch 5/50\n",
      "4/4 [==============================] - 0s 3ms/step - loss: 1.0185 - accuracy: 0.3750\n",
      "Epoch 6/50\n",
      "4/4 [==============================] - 0s 3ms/step - loss: 0.9723 - accuracy: 0.6161\n",
      "Epoch 7/50\n",
      "4/4 [==============================] - 0s 4ms/step - loss: 0.9346 - accuracy: 0.6696\n",
      "Epoch 8/50\n",
      "4/4 [==============================] - 0s 3ms/step - loss: 0.8990 - accuracy: 0.6786\n",
      "Epoch 9/50\n",
      "4/4 [==============================] - 0s 3ms/step - loss: 0.8657 - accuracy: 0.6964\n",
      "Epoch 10/50\n",
      "4/4 [==============================] - 0s 3ms/step - loss: 0.8297 - accuracy: 0.6964\n",
      "Epoch 11/50\n",
      "4/4 [==============================] - 0s 3ms/step - loss: 0.7989 - accuracy: 0.6964\n",
      "Epoch 12/50\n",
      "4/4 [==============================] - 0s 2ms/step - loss: 0.7678 - accuracy: 0.6964\n",
      "Epoch 13/50\n",
      "4/4 [==============================] - 0s 3ms/step - loss: 0.7430 - accuracy: 0.6964\n",
      "Epoch 14/50\n",
      "4/4 [==============================] - 0s 3ms/step - loss: 0.7140 - accuracy: 0.6964\n",
      "Epoch 15/50\n",
      "4/4 [==============================] - 0s 3ms/step - loss: 0.6911 - accuracy: 0.6964\n",
      "Epoch 16/50\n",
      "4/4 [==============================] - 0s 3ms/step - loss: 0.6699 - accuracy: 0.6964\n",
      "Epoch 17/50\n",
      "4/4 [==============================] - 0s 3ms/step - loss: 0.6448 - accuracy: 0.6964\n",
      "Epoch 18/50\n",
      "4/4 [==============================] - 0s 3ms/step - loss: 0.6258 - accuracy: 0.6964\n",
      "Epoch 19/50\n",
      "4/4 [==============================] - 0s 3ms/step - loss: 0.6065 - accuracy: 0.6964\n",
      "Epoch 20/50\n",
      "4/4 [==============================] - 0s 3ms/step - loss: 0.5896 - accuracy: 0.6964\n",
      "Epoch 21/50\n",
      "4/4 [==============================] - 0s 3ms/step - loss: 0.5721 - accuracy: 0.6964\n",
      "Epoch 22/50\n",
      "4/4 [==============================] - 0s 4ms/step - loss: 0.5568 - accuracy: 0.6964\n",
      "Epoch 23/50\n",
      "4/4 [==============================] - 0s 3ms/step - loss: 0.5417 - accuracy: 0.6964\n",
      "Epoch 24/50\n",
      "4/4 [==============================] - 0s 4ms/step - loss: 0.5288 - accuracy: 0.6964\n",
      "Epoch 25/50\n",
      "4/4 [==============================] - 0s 4ms/step - loss: 0.5194 - accuracy: 0.6964\n",
      "Epoch 26/50\n",
      "4/4 [==============================] - 0s 3ms/step - loss: 0.5025 - accuracy: 0.6964\n",
      "Epoch 27/50\n",
      "4/4 [==============================] - 0s 4ms/step - loss: 0.4909 - accuracy: 0.6964\n",
      "Epoch 28/50\n",
      "4/4 [==============================] - 0s 3ms/step - loss: 0.4794 - accuracy: 0.7232\n",
      "Epoch 29/50\n",
      "4/4 [==============================] - 0s 4ms/step - loss: 0.4703 - accuracy: 0.7143\n",
      "Epoch 30/50\n",
      "4/4 [==============================] - 0s 4ms/step - loss: 0.4625 - accuracy: 0.7321\n",
      "Epoch 31/50\n",
      "4/4 [==============================] - 0s 3ms/step - loss: 0.4517 - accuracy: 0.6964\n",
      "Epoch 32/50\n",
      "4/4 [==============================] - 0s 2ms/step - loss: 0.4442 - accuracy: 0.7143\n",
      "Epoch 33/50\n",
      "4/4 [==============================] - 0s 4ms/step - loss: 0.4350 - accuracy: 0.7857\n",
      "Epoch 34/50\n",
      "4/4 [==============================] - 0s 2ms/step - loss: 0.4287 - accuracy: 0.7500\n",
      "Epoch 35/50\n",
      "4/4 [==============================] - 0s 3ms/step - loss: 0.4179 - accuracy: 0.7143\n",
      "Epoch 36/50\n",
      "4/4 [==============================] - 0s 4ms/step - loss: 0.4090 - accuracy: 0.8750\n",
      "Epoch 37/50\n",
      "4/4 [==============================] - 0s 3ms/step - loss: 0.4045 - accuracy: 0.8482\n",
      "Epoch 38/50\n",
      "4/4 [==============================] - 0s 3ms/step - loss: 0.3935 - accuracy: 0.8661\n",
      "Epoch 39/50\n",
      "4/4 [==============================] - 0s 4ms/step - loss: 0.3914 - accuracy: 0.8839\n",
      "Epoch 40/50\n",
      "4/4 [==============================] - ETA: 0s - loss: 0.4327 - accuracy: 0.90 - 0s 3ms/step - loss: 0.3788 - accuracy: 0.9196\n",
      "Epoch 41/50\n",
      "4/4 [==============================] - 0s 2ms/step - loss: 0.3720 - accuracy: 0.8661\n",
      "Epoch 42/50\n",
      "4/4 [==============================] - 0s 3ms/step - loss: 0.3646 - accuracy: 0.9196\n",
      "Epoch 43/50\n",
      "4/4 [==============================] - 0s 3ms/step - loss: 0.3574 - accuracy: 0.9643\n",
      "Epoch 44/50\n",
      "4/4 [==============================] - 0s 3ms/step - loss: 0.3550 - accuracy: 0.8839\n",
      "Epoch 45/50\n",
      "4/4 [==============================] - 0s 3ms/step - loss: 0.3474 - accuracy: 0.9286\n",
      "Epoch 46/50\n",
      "4/4 [==============================] - 0s 3ms/step - loss: 0.3416 - accuracy: 0.9464\n",
      "Epoch 47/50\n",
      "4/4 [==============================] - 0s 3ms/step - loss: 0.3334 - accuracy: 0.9643\n",
      "Epoch 48/50\n",
      "4/4 [==============================] - 0s 3ms/step - loss: 0.3253 - accuracy: 0.9464\n",
      "Epoch 49/50\n",
      "4/4 [==============================] - 0s 3ms/step - loss: 0.3202 - accuracy: 0.9643\n",
      "Epoch 50/50\n",
      "4/4 [==============================] - 0s 3ms/step - loss: 0.3154 - accuracy: 0.9554\n"
     ]
    }
   ],
   "source": [
    "params={'optimizer': ['SGD', 'RMSprop', 'Adagrad', 'Adadelta', 'Adam', 'Adamax', 'Nadam']}\n",
    "model = KerasClassifier(build_fn=get_model, epochs=50)\n",
    "grid = GridSearchCV(estimator=model, param_grid=params, n_jobs=-1, cv=3)\n",
    "result = grid.fit(X_train,Y_train)"
   ]
  },
  {
   "cell_type": "code",
   "execution_count": 57,
   "metadata": {},
   "outputs": [
    {
     "name": "stdout",
     "output_type": "stream",
     "text": [
      "Best: 0.901375 using {'optimizer': 'RMSprop'}\n"
     ]
    }
   ],
   "source": [
    "print(\"Best: %f using %s\" % (result.best_score_, result.best_params_))"
   ]
  },
  {
   "cell_type": "code",
   "execution_count": 58,
   "metadata": {},
   "outputs": [],
   "source": [
    "#Optimizing learning rate and momentum"
   ]
  },
  {
   "cell_type": "code",
   "execution_count": 62,
   "metadata": {},
   "outputs": [],
   "source": [
    "#Tuning optimizer\n",
    "from tensorflow.keras.optimizers import SGD\n",
    "def get_model(learning_rate=0.01,momentum=0):\n",
    "    model = Sequential(\n",
    "    [\n",
    "        Dense(32, activation='relu'),\n",
    "        Dense(16, activation='relu'),\n",
    "        Dense(3, activation='softmax')\n",
    "    ]\n",
    "    )\n",
    "    model.compile(optimizer=SGD(lr=learning_rate,momentum=momentum), loss='sparse_categorical_crossentropy', metrics='accuracy')\n",
    "    return model"
   ]
  },
  {
   "cell_type": "code",
   "execution_count": 63,
   "metadata": {},
   "outputs": [
    {
     "name": "stderr",
     "output_type": "stream",
     "text": [
      "D:\\Anaconda3\\lib\\site-packages\\ipykernel_launcher.py:2: DeprecationWarning: KerasClassifier is deprecated, use Sci-Keras (https://github.com/adriangb/scikeras) instead.\n",
      "  \n",
      "D:\\Anaconda3\\lib\\site-packages\\keras\\optimizer_v2\\gradient_descent.py:102: UserWarning: The `lr` argument is deprecated, use `learning_rate` instead.\n",
      "  super(SGD, self).__init__(name, **kwargs)\n"
     ]
    },
    {
     "name": "stdout",
     "output_type": "stream",
     "text": [
      "Epoch 1/50\n",
      "4/4 [==============================] - 0s 3ms/step - loss: 1.4894 - accuracy: 0.3125\n",
      "Epoch 2/50\n",
      "4/4 [==============================] - 0s 3ms/step - loss: 1.1095 - accuracy: 0.3661\n",
      "Epoch 3/50\n",
      "4/4 [==============================] - 0s 3ms/step - loss: 1.0609 - accuracy: 0.3661\n",
      "Epoch 4/50\n",
      "4/4 [==============================] - 0s 3ms/step - loss: 1.0165 - accuracy: 0.4107\n",
      "Epoch 5/50\n",
      "4/4 [==============================] - 0s 2ms/step - loss: 0.9747 - accuracy: 0.6071\n",
      "Epoch 6/50\n",
      "4/4 [==============================] - 0s 3ms/step - loss: 0.9476 - accuracy: 0.5804\n",
      "Epoch 7/50\n",
      "4/4 [==============================] - 0s 3ms/step - loss: 0.9048 - accuracy: 0.6964\n",
      "Epoch 8/50\n",
      "4/4 [==============================] - 0s 3ms/step - loss: 0.8647 - accuracy: 0.6964\n",
      "Epoch 9/50\n",
      "4/4 [==============================] - 0s 3ms/step - loss: 0.8281 - accuracy: 0.6964\n",
      "Epoch 10/50\n",
      "4/4 [==============================] - 0s 3ms/step - loss: 0.7961 - accuracy: 0.7946\n",
      "Epoch 11/50\n",
      "4/4 [==============================] - 0s 3ms/step - loss: 0.7544 - accuracy: 0.7054\n",
      "Epoch 12/50\n",
      "4/4 [==============================] - 0s 3ms/step - loss: 0.7154 - accuracy: 0.7500\n",
      "Epoch 13/50\n",
      "4/4 [==============================] - 0s 3ms/step - loss: 0.6776 - accuracy: 0.8036\n",
      "Epoch 14/50\n",
      "4/4 [==============================] - 0s 3ms/step - loss: 0.6419 - accuracy: 0.7054\n",
      "Epoch 15/50\n",
      "4/4 [==============================] - 0s 2ms/step - loss: 0.6052 - accuracy: 0.7768\n",
      "Epoch 16/50\n",
      "4/4 [==============================] - 0s 3ms/step - loss: 0.5764 - accuracy: 0.8482\n",
      "Epoch 17/50\n",
      "4/4 [==============================] - 0s 3ms/step - loss: 0.5372 - accuracy: 0.9554\n",
      "Epoch 18/50\n",
      "4/4 [==============================] - 0s 3ms/step - loss: 0.5048 - accuracy: 0.8661\n",
      "Epoch 19/50\n",
      "4/4 [==============================] - 0s 3ms/step - loss: 0.4776 - accuracy: 0.9018\n",
      "Epoch 20/50\n",
      "4/4 [==============================] - 0s 3ms/step - loss: 0.4570 - accuracy: 0.9643\n",
      "Epoch 21/50\n",
      "4/4 [==============================] - 0s 2ms/step - loss: 0.4510 - accuracy: 0.8393\n",
      "Epoch 22/50\n",
      "4/4 [==============================] - 0s 3ms/step - loss: 0.4159 - accuracy: 0.9196\n",
      "Epoch 23/50\n",
      "4/4 [==============================] - 0s 3ms/step - loss: 0.3984 - accuracy: 0.9643\n",
      "Epoch 24/50\n",
      "4/4 [==============================] - 0s 3ms/step - loss: 0.4013 - accuracy: 0.8661\n",
      "Epoch 25/50\n",
      "4/4 [==============================] - 0s 4ms/step - loss: 0.3679 - accuracy: 0.9643\n",
      "Epoch 26/50\n",
      "4/4 [==============================] - 0s 3ms/step - loss: 0.3566 - accuracy: 0.9375\n",
      "Epoch 27/50\n",
      "4/4 [==============================] - 0s 3ms/step - loss: 0.3390 - accuracy: 0.9643\n",
      "Epoch 28/50\n",
      "4/4 [==============================] - 0s 3ms/step - loss: 0.3370 - accuracy: 0.9196\n",
      "Epoch 29/50\n",
      "4/4 [==============================] - 0s 3ms/step - loss: 0.3332 - accuracy: 0.9018\n",
      "Epoch 30/50\n",
      "4/4 [==============================] - ETA: 0s - loss: 0.3614 - accuracy: 0.96 - 0s 3ms/step - loss: 0.3176 - accuracy: 0.9643\n",
      "Epoch 31/50\n",
      "4/4 [==============================] - 0s 3ms/step - loss: 0.2959 - accuracy: 0.9643\n",
      "Epoch 32/50\n",
      "4/4 [==============================] - 0s 3ms/step - loss: 0.2974 - accuracy: 0.9643\n",
      "Epoch 33/50\n",
      "4/4 [==============================] - 0s 3ms/step - loss: 0.2781 - accuracy: 0.9643\n",
      "Epoch 34/50\n",
      "4/4 [==============================] - 0s 3ms/step - loss: 0.2807 - accuracy: 0.9643\n",
      "Epoch 35/50\n",
      "4/4 [==============================] - 0s 3ms/step - loss: 0.2729 - accuracy: 0.9464\n",
      "Epoch 36/50\n",
      "4/4 [==============================] - 0s 3ms/step - loss: 0.2715 - accuracy: 0.9107\n",
      "Epoch 37/50\n",
      "4/4 [==============================] - 0s 4ms/step - loss: 0.2481 - accuracy: 0.9554\n",
      "Epoch 38/50\n",
      "4/4 [==============================] - 0s 3ms/step - loss: 0.2439 - accuracy: 0.9643\n",
      "Epoch 39/50\n",
      "4/4 [==============================] - 0s 3ms/step - loss: 0.2298 - accuracy: 0.9732\n",
      "Epoch 40/50\n",
      "4/4 [==============================] - 0s 3ms/step - loss: 0.2193 - accuracy: 0.9643\n",
      "Epoch 41/50\n",
      "4/4 [==============================] - 0s 3ms/step - loss: 0.2138 - accuracy: 0.9643\n",
      "Epoch 42/50\n",
      "4/4 [==============================] - 0s 3ms/step - loss: 0.2100 - accuracy: 0.9554\n",
      "Epoch 43/50\n",
      "4/4 [==============================] - 0s 3ms/step - loss: 0.2038 - accuracy: 0.9554\n",
      "Epoch 44/50\n",
      "4/4 [==============================] - 0s 3ms/step - loss: 0.2123 - accuracy: 0.9643\n",
      "Epoch 45/50\n",
      "4/4 [==============================] - 0s 2ms/step - loss: 0.1942 - accuracy: 0.9732\n",
      "Epoch 46/50\n",
      "4/4 [==============================] - 0s 3ms/step - loss: 0.1935 - accuracy: 0.9643\n",
      "Epoch 47/50\n",
      "4/4 [==============================] - 0s 3ms/step - loss: 0.1917 - accuracy: 0.9643\n",
      "Epoch 48/50\n",
      "4/4 [==============================] - 0s 3ms/step - loss: 0.1911 - accuracy: 0.9732\n",
      "Epoch 49/50\n",
      "4/4 [==============================] - 0s 3ms/step - loss: 0.1814 - accuracy: 0.9643\n",
      "Epoch 50/50\n",
      "4/4 [==============================] - 0s 3ms/step - loss: 0.1967 - accuracy: 0.9464\n"
     ]
    }
   ],
   "source": [
    "params={'learning_rate': [0.001,0.01,0.1,0.2,0.3], 'momentum':[0,0.2,0.4,0.6]}\n",
    "model = KerasClassifier(build_fn=get_model, epochs=50)\n",
    "grid = GridSearchCV(estimator=model, param_grid=params, n_jobs=-1, cv=3)\n",
    "result = grid.fit(X_train,Y_train)"
   ]
  },
  {
   "cell_type": "code",
   "execution_count": 64,
   "metadata": {},
   "outputs": [
    {
     "name": "stdout",
     "output_type": "stream",
     "text": [
      "Best: 0.937174 using {'learning_rate': 0.01, 'momentum': 0.6}\n"
     ]
    }
   ],
   "source": [
    "print(\"Best: %f using %s\" % (result.best_score_, result.best_params_))"
   ]
  },
  {
   "cell_type": "code",
   "execution_count": null,
   "metadata": {},
   "outputs": [],
   "source": []
  }
 ],
 "metadata": {
  "kernelspec": {
   "display_name": "Python 3",
   "language": "python",
   "name": "python3"
  },
  "language_info": {
   "codemirror_mode": {
    "name": "ipython",
    "version": 3
   },
   "file_extension": ".py",
   "mimetype": "text/x-python",
   "name": "python",
   "nbconvert_exporter": "python",
   "pygments_lexer": "ipython3",
   "version": "3.7.3"
  }
 },
 "nbformat": 4,
 "nbformat_minor": 2
}
