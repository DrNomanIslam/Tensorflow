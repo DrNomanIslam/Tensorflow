{
 "cells": [
  {
   "cell_type": "code",
   "execution_count": 30,
   "metadata": {},
   "outputs": [],
   "source": [
    "from tensorflow.data import Dataset"
   ]
  },
  {
   "cell_type": "code",
   "execution_count": 31,
   "metadata": {},
   "outputs": [],
   "source": [
    "import tensorflow as tf"
   ]
  },
  {
   "cell_type": "code",
   "execution_count": 32,
   "metadata": {},
   "outputs": [],
   "source": [
    "nums = [7, 9, -10, 6, 4, 5, 3, 17]"
   ]
  },
  {
   "cell_type": "code",
   "execution_count": 33,
   "metadata": {},
   "outputs": [],
   "source": [
    "ds = Dataset.from_tensor_slices(nums)"
   ]
  },
  {
   "cell_type": "code",
   "execution_count": 34,
   "metadata": {},
   "outputs": [
    {
     "name": "stdout",
     "output_type": "stream",
     "text": [
      "7\n",
      "9\n",
      "-10\n",
      "6\n",
      "4\n"
     ]
    }
   ],
   "source": [
    "for n in ds.take(5):\n",
    "    print(n.numpy())"
   ]
  },
  {
   "cell_type": "code",
   "execution_count": 35,
   "metadata": {},
   "outputs": [],
   "source": [
    "ds = ds.filter(lambda n: n>=0)"
   ]
  },
  {
   "cell_type": "code",
   "execution_count": 36,
   "metadata": {},
   "outputs": [
    {
     "name": "stdout",
     "output_type": "stream",
     "text": [
      "7\n",
      "9\n",
      "6\n",
      "4\n",
      "5\n"
     ]
    }
   ],
   "source": [
    "for n in ds.take(5).as_numpy_iterator():\n",
    "    print(n)"
   ]
  },
  {
   "cell_type": "code",
   "execution_count": 39,
   "metadata": {},
   "outputs": [
    {
     "data": {
      "text/plain": [
       "<MapDataset shapes: (), types: tf.int32>"
      ]
     },
     "execution_count": 39,
     "metadata": {},
     "output_type": "execute_result"
    }
   ],
   "source": [
    "from math import sqrt\n",
    "ds.map(lambda x: x**2)"
   ]
  },
  {
   "cell_type": "code",
   "execution_count": 40,
   "metadata": {},
   "outputs": [
    {
     "name": "stdout",
     "output_type": "stream",
     "text": [
      "[7 9 6 4]\n",
      "[ 5  3 17]\n"
     ]
    }
   ],
   "source": [
    "for n in ds.batch(4):\n",
    "    print(n.numpy())"
   ]
  },
  {
   "cell_type": "code",
   "execution_count": 42,
   "metadata": {},
   "outputs": [],
   "source": [
    "ds = Dataset.range(1,10)"
   ]
  },
  {
   "cell_type": "code",
   "execution_count": 48,
   "metadata": {},
   "outputs": [
    {
     "data": {
      "text/plain": [
       "[5, 7, 1, 9, 8, 6, 4, 3, 2]"
      ]
     },
     "execution_count": 48,
     "metadata": {},
     "output_type": "execute_result"
    }
   ],
   "source": [
    "list(ds.shuffle(10).as_numpy_iterator())"
   ]
  },
  {
   "cell_type": "code",
   "execution_count": 52,
   "metadata": {},
   "outputs": [],
   "source": [
    "ds = tf.data.TextLineDataset(\"videos.txt\")"
   ]
  },
  {
   "cell_type": "code",
   "execution_count": 53,
   "metadata": {},
   "outputs": [
    {
     "name": "stdout",
     "output_type": "stream",
     "text": [
      "b'4th August - Python'\n",
      "b'https://drive.google.com/file/d/1A2zd1aDXSETSuw_AAEO0hneCDEEp_fLf/view?usp=sharing'\n",
      "b''\n",
      "b'14th August - Python, numpy'\n",
      "b'https://drive.google.com/file/d/1N5Ih_63FrIhd7ebqavhtsgb2VDQr9R1B/view?usp=sharing'\n"
     ]
    }
   ],
   "source": [
    "for line in ds.take(5):\n",
    "    print(line.numpy())"
   ]
  },
  {
   "cell_type": "code",
   "execution_count": 59,
   "metadata": {},
   "outputs": [
    {
     "name": "stdout",
     "output_type": "stream",
     "text": [
      "b'.\\\\dataset.ipynb'\n"
     ]
    }
   ],
   "source": [
    "for f in Dataset.list_files('./*.ipynb').take(5):\n",
    "    print(f.numpy())"
   ]
  },
  {
   "cell_type": "code",
   "execution_count": 64,
   "metadata": {},
   "outputs": [
    {
     "data": {
      "text/plain": [
       "5"
      ]
     },
     "execution_count": 64,
     "metadata": {},
     "output_type": "execute_result"
    }
   ],
   "source": [
    "ds = Dataset.range(5)\n",
    "ds.cardinality().numpy()"
   ]
  },
  {
   "cell_type": "code",
   "execution_count": 68,
   "metadata": {},
   "outputs": [
    {
     "name": "stdout",
     "output_type": "stream",
     "text": [
      "b'foo'\n",
      "b'bar'\n",
      "b'baz'\n",
      "b'foo'\n",
      "b'bar'\n",
      "b'baz'\n",
      "b'foo'\n",
      "b'bar'\n",
      "b'baz'\n"
     ]
    }
   ],
   "source": [
    "datasets = [tf.data.Dataset.from_tensors(\"foo\").repeat(),\n",
    "            tf.data.Dataset.from_tensors(\"bar\").repeat(),\n",
    "            tf.data.Dataset.from_tensors(\"baz\").repeat()]\n",
    "\n",
    "choice_dataset = tf.data.Dataset.range(3).repeat(3)\n",
    "\n",
    "result = tf.data.Dataset.choose_from_datasets(datasets, choice_dataset)\n",
    "for r in result.take(100):\n",
    "    print(r.numpy())"
   ]
  },
  {
   "cell_type": "code",
   "execution_count": 78,
   "metadata": {},
   "outputs": [
    {
     "data": {
      "text/plain": [
       "5051"
      ]
     },
     "execution_count": 78,
     "metadata": {},
     "output_type": "execute_result"
    }
   ],
   "source": [
    "import numpy as np\n",
    "Dataset.range(101).reduce(np.int64(1),lambda x,y: x+y).numpy()"
   ]
  },
  {
   "cell_type": "code",
   "execution_count": 81,
   "metadata": {},
   "outputs": [
    {
     "name": "stdout",
     "output_type": "stream",
     "text": [
      "1\n",
      "5\n",
      "7\n",
      "1\n",
      "5\n",
      "7\n",
      "1\n",
      "5\n",
      "7\n",
      "1\n"
     ]
    }
   ],
   "source": [
    "for n in Dataset.from_tensor_slices([1,5,7]).repeat().take(10):\n",
    "    print(n.numpy())"
   ]
  },
  {
   "cell_type": "code",
   "execution_count": 82,
   "metadata": {},
   "outputs": [
    {
     "name": "stdout",
     "output_type": "stream",
     "text": [
      "5\n",
      "7\n"
     ]
    }
   ],
   "source": [
    "for n in Dataset.from_tensor_slices([1,5,7]).skip(1):\n",
    "    print(n.numpy())"
   ]
  },
  {
   "cell_type": "code",
   "execution_count": null,
   "metadata": {},
   "outputs": [],
   "source": []
  }
 ],
 "metadata": {
  "kernelspec": {
   "display_name": "Python 3",
   "language": "python",
   "name": "python3"
  },
  "language_info": {
   "codemirror_mode": {
    "name": "ipython",
    "version": 3
   },
   "file_extension": ".py",
   "mimetype": "text/x-python",
   "name": "python",
   "nbconvert_exporter": "python",
   "pygments_lexer": "ipython3",
   "version": "3.7.3"
  }
 },
 "nbformat": 4,
 "nbformat_minor": 2
}
